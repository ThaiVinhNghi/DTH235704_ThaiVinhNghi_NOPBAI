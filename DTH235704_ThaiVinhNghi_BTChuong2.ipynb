{
 "cells": [
  {
   "cell_type": "code",
   "execution_count": null,
   "id": "149a73a6",
   "metadata": {
    "vscode": {
     "languageId": "plaintext"
    }
   },
   "outputs": [],
   "source": [
    "import math\n",
    "try:\n",
    " r=float(input(\"Mời bạn nhập bán kính hình tròn:\"))\n",
    " cv=2*math.pi*r\n",
    " dt=r**2\n",
    " print(\"Chu vi =\",cv)\n",
    " print(\"Diện tích=\",dt)\n",
    "except:\n",
    " print(\"Lỗi rồi!\")"
   ]
  },
  {
   "cell_type": "code",
   "execution_count": null,
   "id": "74de172e",
   "metadata": {},
   "outputs": [],
   "source": [
    "t=int(input(\"Nhập số giây:\"))\n",
    "hour=(t//3600)%24\n",
    "minute=(t%3600)//60\n",
    "second=(t%3600)%60\n",
    "print(hour,\":\",minute,\":\",second)"
   ]
  },
  {
   "cell_type": "code",
   "execution_count": null,
   "id": "56208a33",
   "metadata": {},
   "outputs": [],
   "source": [
    "print(\"Chương trình tính điểm trung bình\")\n",
    "toan,ly,hoa=eval(input(\"Nhập điểm toán,lý,hóa:\"))\n",
    "print(\"Điểm toán=\",toan)\n",
    "print(\"Điểm lý=\",ly)\n",
    "print(\"Điểm hóa=\",hoa)\n",
    "dtb=(toan+ly+hoa)/3\n",
    "print(\"Điểm trung bình=\",dtb)\n",
    "print(\"Điểm làm tròn=\",round(dtb,2))"
   ]
  }
 ],
 "metadata": {
  "language_info": {
   "name": "python"
  }
 },
 "nbformat": 4,
 "nbformat_minor": 5
}
