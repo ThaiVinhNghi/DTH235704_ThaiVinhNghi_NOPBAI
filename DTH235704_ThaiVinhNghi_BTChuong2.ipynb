{
 "cells": [
  {
   "cell_type": "code",
   "execution_count": null,
   "id": "149a73a6",
   "metadata": {
    "vscode": {
     "languageId": "plaintext"
    }
   },
   "outputs": [],
   "source": [
    "import math\n",
    "try:\n",
    " r=float(input(\"Mời bạn nhập bán kính hình tròn:\"))\n",
    " cv=2*math.pi*r\n",
    " dt=r**2\n",
    " print(\"Chu vi =\",cv)\n",
    " print(\"Diện tích=\",dt)\n",
    "except:\n",
    " print(\"Lỗi rồi!\")"
   ]
  },
  {
   "cell_type": "code",
   "execution_count": null,
   "id": "74de172e",
   "metadata": {},
   "outputs": [],
   "source": [
    "t=int(input(\"Nhập số giây:\"))\n",
    "hour=(t//3600)%24\n",
    "minute=(t%3600)//60\n",
    "second=(t%3600)%60\n",
    "print(hour,\":\",minute,\":\",second)"
   ]
  },
  {
   "cell_type": "code",
   "execution_count": null,
   "id": "56208a33",
   "metadata": {},
   "outputs": [],
   "source": [
    "print(\"Chương trình tính điểm trung bình\")\n",
    "toan,ly,hoa=eval(input(\"Nhập điểm toán,lý,hóa:\"))\n",
    "print(\"Điểm toán=\",toan)\n",
    "print(\"Điểm lý=\",ly)\n",
    "print(\"Điểm hóa=\",hoa)\n",
    "dtb=(toan+ly+hoa)/3\n",
    "print(\"Điểm trung bình=\",dtb)\n",
    "print(\"Điểm làm tròn=\",round(dtb,2))"
   ]
  },
  {
   "cell_type": "code",
   "execution_count": null,
   "id": "c038e500",
   "metadata": {},
   "outputs": [],
   "source": [
    "print(\"Chương trình tính điểm trung bình\")\n",
    "toan,ly,hoa=eval(input(\"Nhập điểm toán,lý,hóa:\"))\n",
    "print(\"Điểm toán=\",toan)\n",
    "print(\"Điểm lý=\",ly)\n",
    "print(\"Điểm hóa=\",hoa)\n",
    "dtb=(toan+ly+hoa)/3\n",
    "print(\"Điểm trung bình=\",dtb)\n",
    "print(\"Điểm làm tròn=\",round(dtb,2))\n",
    "Chương trình tính điểm trung bình\n",
    "Điểm toán= 9\n",
    "Điểm lý= 6\n",
    "Điểm hóa= 7\n",
    "Điểm trung bình= 7.333333333333333\n",
    "Điểm làm tròn= 7.33"
   ]
  },
  {
   "cell_type": "code",
   "execution_count": null,
   "id": "67581a7d",
   "metadata": {},
   "outputs": [],
   "source": [
    "i1 = 2\n",
    "i2 = 5\n",
    "i3 = -3\n",
    "d1 = 2.0\n",
    "d2 = 5.0\n",
    "d3 = -0.5\n",
    "\n",
    "a = i1 + (i2 * i3)\n",
    "b = i1 * (i2 + i3)\n",
    "c = i1 / (i2 + i3)\n",
    "d = i1 // (i2 + i3)\n",
    "e = i1 / i2 + i3\n",
    "f = i1 // i2 + i3\n",
    "g = 3 + 4 + 5 / 3\n",
    "h = 3 + 4 + 5 // 3\n",
    "j = (3 + 4 + 5) / 3\n",
    "k = (3 + 4 + 5) // 3\n",
    "l = d1 + (d2 * d3)\n",
    "m = d1 + d2 * d3\n",
    "n = d1 / d2 - d3\n",
    "o = d1 / (d2 - d3)\n",
    "p = d1 + d2 + d3 / 3\n",
    "q = (d1 + d2 + d3) / 3\n",
    "r = d1 + d2 + (d3 / 3)\n",
    "s = 3 * (d1 + d2) * (d1 - d3)\n",
    "\n",
    "print(\"ket qua\",a,b,c,d,e,f,g,h,j,k,l,m,n,o,p,q,r,s)"
   ]
  }
 ],
 "metadata": {
  "language_info": {
   "name": "python"
  }
 },
 "nbformat": 4,
 "nbformat_minor": 5
}
